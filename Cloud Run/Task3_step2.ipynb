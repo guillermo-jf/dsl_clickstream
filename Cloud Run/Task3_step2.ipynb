{
 "cells": [
  {
   "cell_type": "code",
   "execution_count": null,
   "id": "08f82a1b-ba0e-4769-96a0-460f87cf6ef4",
   "metadata": {
    "tags": []
   },
   "outputs": [],
   "source": [
    "# Using Pubsub with Cloud Run \n",
    "# TASK 3 Step 2\n",
    "#Create a push subscriber running in Cloud Run or Cloud Functions. \n",
    "#Process the messages as they come in. Parse them, and write the data to BigQuery where it can be analyzed. \n",
    "#In Looker Studio, create a simple report that shows clicks by page in real time.\n",
    "\n",
    "import os\n",
    "import random\n",
    "from datetime import datetime\n",
    "import json\n",
    "from google.cloud import pubsub_v1\n",
    "from google.api_core.exceptions import AlreadyExists\n"
   ]
  },
  {
   "cell_type": "code",
   "execution_count": 29,
   "id": "d03b762a-2c9a-4a22-8630-8c89f82e8951",
   "metadata": {
    "tags": []
   },
   "outputs": [
    {
     "name": "stdout",
     "output_type": "stream",
     "text": [
      "Updated property [run/region].\n"
     ]
    }
   ],
   "source": [
    "# Project, topic, and subscription variables\n",
    "PROJECT_ID = 'jellyfish-training-demo-6'\n",
    "REGION     = 'us-central1'\n",
    "TOPIC_ID = 'projects/jellyfish-training-demo-6/topics/lab_topic'\n",
    "SUBSCRIPTION_ID = 'push_cloudrun'\n",
    "dataset_id = \"dsl_project\"  # Replace with your dataset ID\n",
    "table_id = \"website-visits_batch\"  # Replace with your table ID\n",
    "\n",
    "! gcloud config set run/region REGION"
   ]
  },
  {
   "cell_type": "code",
   "execution_count": 8,
   "id": "7a195411-813d-4c2b-834e-795ebdcb1eb7",
   "metadata": {
    "tags": []
   },
   "outputs": [],
   "source": [
    "# using existing repository in artifact registry: \n",
    "# us-central1-docker.pkg.dev/jellyfish-training-demo-6/cloud-run-source-deploy\n",
    "REPOSITORY = 'cloud-run-source-deploy'\n",
    "# create a new one if needed, \n",
    "#! gcloud artifacts repositories create dsl-repo --repository-format=docker --location=REGION\n"
   ]
  },
  {
   "cell_type": "code",
   "execution_count": null,
   "id": "a3724ec7-c6c0-4e5d-ac56-8dc4e098ba7a",
   "metadata": {
    "tags": []
   },
   "outputs": [],
   "source": [
    "# Build your container and publish on Artifact Registry:\n",
    "### Create a Pub/Sub subscription \n",
    "\n",
    "! gcloud builds submit --tag us-central1-docker.pkg.dev/jellyfish-training-demo-6/cloud-run-source-deploy/pubsub"
   ]
  },
  {
   "cell_type": "code",
   "execution_count": null,
   "id": "979353ff-8807-4110-8a9b-b6a6ece8a14e",
   "metadata": {
    "tags": []
   },
   "outputs": [],
   "source": [
    "#Run the following command to deploy your app:\n",
    "\n",
    "!gcloud run deploy pubsub-cloudrun-push --quiet --region=$REGION --image us-central1-docker.pkg.dev/jellyfish-training-demo-6/cloud-run-source-deploy/pubsub --no-allow-unauthenticated"
   ]
  },
  {
   "cell_type": "code",
   "execution_count": 42,
   "id": "7511e653-bf95-4ac3-aded-afa3afb31799",
   "metadata": {
    "tags": []
   },
   "outputs": [
    {
     "name": "stdout",
     "output_type": "stream",
     "text": [
      "Created subscription [projects/jellyfish-training-demo-6/subscriptions/push_cloudrun].\n"
     ]
    }
   ],
   "source": [
    "# Create a Pub/Sub subscription \n",
    "# endpoint from the deployment: https://pubsub-cloudrun-push-387528315161.us-central1.run.app\n",
    "\n",
    "! gcloud pubsub subscriptions create $SUBSCRIPTION_ID --topic='projects/jellyfish-training-demo-6/topics/lab_topic' \\\n",
    "--ack-deadline=600 \\\n",
    "--push-endpoint='https://pubsub-cloudrun-push-387528315161.us-central1.run.app'/ \\\n",
    "--push-auth-service-account=387528315161-compute@developer.gserviceaccount.com"
   ]
  },
  {
   "cell_type": "code",
   "execution_count": 43,
   "id": "4eae9d64-d210-4262-a135-927f1869030d",
   "metadata": {
    "tags": []
   },
   "outputs": [
    {
     "name": "stdout",
     "output_type": "stream",
     "text": [
      "messageIds:\n",
      "- '14589122503927140'\n"
     ]
    }
   ],
   "source": [
    "# To test the end-to-end solution:\n",
    "# Send a Pub/Sub message to the topic:\n",
    "\n",
    "!gcloud pubsub topics publish lab_topic --message \"Runner\""
   ]
  },
  {
   "cell_type": "code",
   "execution_count": null,
   "id": "6c9e3561-76eb-4d9c-8d9b-4a083e4ee2a4",
   "metadata": {},
   "outputs": [],
   "source": []
  }
 ],
 "metadata": {
  "kernelspec": {
   "display_name": "Apache Beam 2.63.0 (Local)",
   "language": "python",
   "name": "apache-beam-2.63.0"
  },
  "language_info": {
   "codemirror_mode": {
    "name": "ipython",
    "version": 3
   },
   "file_extension": ".py",
   "mimetype": "text/x-python",
   "name": "python",
   "nbconvert_exporter": "python",
   "pygments_lexer": "ipython3",
   "version": "3.10.17"
  }
 },
 "nbformat": 4,
 "nbformat_minor": 5
}
