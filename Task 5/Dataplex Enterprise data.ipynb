{
 "cells": [
  {
   "cell_type": "markdown",
   "id": "3b6b5ba5-6e9e-428a-8dd5-0d2ea38732f4",
   "metadata": {},
   "source": [
    "Using Dataplex, create a data mesh architecture to share your clickstream data with the organization\n",
    "\n",
    "\n",
    "Run the following command to create the data lake. "
   ]
  },
  {
   "cell_type": "code",
   "execution_count": null,
   "id": "23ff1256-b988-44e3-9df7-4c072859f5ef",
   "metadata": {},
   "outputs": [],
   "source": [
    "$REGION='us-central1'\n",
    "$LAKE='dsl-lake-clickstream'\n",
    "$GOOGLE_CLOUD_PROJECT='jellyfish-training-demo-6'"
   ]
  },
  {
   "cell_type": "code",
   "execution_count": null,
   "id": "092efced-eb7c-404b-bccb-2b6f57550a12",
   "metadata": {},
   "outputs": [],
   "source": [
    "gcloud dataplex lakes create dsl-lake-clickstream \\\n",
    " --project=$GOOGLE_CLOUD_PROJECT \\\n",
    " --location=us-central1 \\\n",
    " --labels=team=training \\\n",
    " --display-name=\"DSL Challenge Lab.Clickstream Data\"\n"
   ]
  },
  {
   "cell_type": "raw",
   "id": "2e404604-1976-4abf-935c-e93ff6c0bbec",
   "metadata": {},
   "source": [
    "Create Zones\n",
    "\n",
    "Raw Zone:\"DSL Clickstream Data Raw Zone\""
   ]
  },
  {
   "cell_type": "code",
   "execution_count": null,
   "id": "7f06ed5e-61e8-4672-8f80-491ca5644deb",
   "metadata": {},
   "outputs": [],
   "source": [
    "gcloud dataplex zones create clickstream-raw-zone \\\n",
    "--project=$GOOGLE_CLOUD_PROJECT \\\n",
    "--lake=$LAKE \\\n",
    "--resource-location-type=SINGLE_REGION \\\n",
    "--location=$REGION \\\n",
    "--type=RAW \\\n",
    "--discovery-enabled \\\n",
    "--discovery-schedule=\"0 * * * *\" \\\n",
    "--labels=data_product_category=raw_data \\\n",
    "--display-name=\"DSL Clickstream Data Raw Zone\""
   ]
  },
  {
   "cell_type": "raw",
   "id": "d075d51b-15b2-4f15-9b22-d5ffd62a7104",
   "metadata": {},
   "source": [
    "Curated Zone:\"DSL Clickstream Data Raw Zone\""
   ]
  },
  {
   "cell_type": "code",
   "execution_count": null,
   "id": "6cb1bc6a-9669-4a2a-b403-083df15f2f80",
   "metadata": {},
   "outputs": [],
   "source": [
    "gcloud dataplex zones create clickstream-curated-zone \\\n",
    "--project=$GOOGLE_CLOUD_PROJECT \\\n",
    "--lake=$LAKE \\\n",
    "--resource-location-type=SINGLE_REGION \\\n",
    "--location=$REGION \\\n",
    "--type=CURATED \\\n",
    "--discovery-enabled \\\n",
    "--discovery-schedule=\"0 * * * *\" \\\n",
    "--labels=data_product_category=curated_data"
   ]
  },
  {
   "cell_type": "raw",
   "id": "9856f38c-417c-48ad-9b14-536805cacfa4",
   "metadata": {},
   "source": [
    "create the assets."
   ]
  },
  {
   "cell_type": "code",
   "execution_count": null,
   "id": "ffccb7ce-13c4-4f94-9205-8ceb9ddb0a41",
   "metadata": {},
   "outputs": [],
   "source": [
    "gcloud dataplex assets create clickstream-events-raw-data \\\n",
    "--project=$GOOGLE_CLOUD_PROJECT \\\n",
    "--location=$REGION \\\n",
    "--lake=$LAKE \\\n",
    "--zone=clickstream-raw-zone \\\n",
    "--resource-type=STORAGE_BUCKET \\\n",
    "--resource-name=projects/$GOOGLE_CLOUD_PROJECT/buckets/$GOOGLE_CLOUD_PROJECT/dsl-project \\\n",
    "--discovery-enabled --discovery-schedule=\"0 * * * *\" \\\n",
    "--display-name=\"Clickstream Events Raw Data\""
   ]
  }
 ],
 "metadata": {
  "kernelspec": {
   "display_name": "Apache Beam 2.63.0 (Local)",
   "language": "python",
   "name": "apache-beam-2.63.0"
  },
  "language_info": {
   "codemirror_mode": {
    "name": "ipython",
    "version": 3
   },
   "file_extension": ".py",
   "mimetype": "text/x-python",
   "name": "python",
   "nbconvert_exporter": "python",
   "pygments_lexer": "ipython3",
   "version": "3.10.17"
  }
 },
 "nbformat": 4,
 "nbformat_minor": 5
}
