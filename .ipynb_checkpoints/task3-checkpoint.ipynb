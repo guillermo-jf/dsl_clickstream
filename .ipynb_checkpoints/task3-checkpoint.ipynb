{
 "cells": [
  {
   "cell_type": "code",
   "execution_count": 1,
   "id": "02cb3e29-1cd2-4555-b3bf-13f18e63f774",
   "metadata": {
    "tags": []
   },
   "outputs": [],
   "source": [
    "import base64\n",
    "import json\n",
    "from google.cloud import bigquery\n",
    "import os\n",
    "from google.cloud import pubsub_v1\n",
    "from google.api_core.exceptions import AlreadyExists"
   ]
  },
  {
   "cell_type": "code",
   "execution_count": 12,
   "id": "ebe77ac3-a474-4680-9fbd-bae50a03b74b",
   "metadata": {
    "tags": []
   },
   "outputs": [],
   "source": [
    "\n",
    "# Project, topic, and subscription variables\n",
    "project_id = 'jellyfish-training-demo-6'\n",
    "topic_id = 'lab_topic'\n",
    "subscription_id = 'test'\n",
    "dataset_id = \"dsl_project\"  # Replace with your dataset ID\n",
    "table_id = \"website-visits_batch\"  # Replace with your table ID\n",
    "\n"
   ]
  },
  {
   "cell_type": "code",
   "execution_count": 13,
   "id": "d6bde0fd-8744-4f74-b60e-f3c1d4b7278a",
   "metadata": {
    "tags": []
   },
   "outputs": [
    {
     "name": "stdout",
     "output_type": "stream",
     "text": [
      "Subscription projects/jellyfish-training-demo-6/subscriptions/test already exists.\n"
     ]
    }
   ],
   "source": [
    "# Create the subscription if it doesn't exist\n",
    "try:\n",
    "    subscriber.create_subscription(name=subscription_path, topic=topic_path)\n",
    "    print(f'Subscription {subscription_path} created.')\n",
    "except AlreadyExists:\n",
    "    print(f'Subscription {subscription_path} already exists.')\n",
    "\n",
    "# Callback function to process received messages\n",
    "def callback(message):\n",
    "    print(f'Received message: {message.data.decode(\"utf-8\")}')\n",
    "    message.ack()\n",
    "    \n",
    "\n"
   ]
  },
  {
   "cell_type": "code",
   "execution_count": 18,
   "id": "a50cec4b-404e-45ee-a50a-a1b37a2faaa7",
   "metadata": {
    "tags": []
   },
   "outputs": [],
   "source": [
    "# Initialize the Publisher and Subscriber clients\n",
    "publisher = pubsub_v1.PublisherClient()\n",
    "subscriber = pubsub_v1.SubscriberClient()\n",
    "topic_path = publisher.topic_path(project_id, topic_id)\n",
    "subscription_path = subscriber.subscription_path(project_id, subscription_id)"
   ]
  },
  {
   "cell_type": "code",
   "execution_count": 19,
   "id": "2809d446-a5bd-49dd-9399-9c739400a2d1",
   "metadata": {
    "tags": []
   },
   "outputs": [
    {
     "name": "stdout",
     "output_type": "stream",
     "text": [
      "Listening for messages on projects/jellyfish-training-demo-6/subscriptions/test...\n"
     ]
    }
   ],
   "source": [
    "\n",
    "# Subscribe to the Pub/Sub topic and pull messages\n",
    "streaming_pull_future = subscriber.subscribe(subscription_path, callback=callback)\n",
    "print(f'Listening for messages on {subscription_path}...')\n",
    "\n",
    "# Wrap subscriber in a 'with' block to automatically call close() when done\n",
    "with subscriber:\n",
    "    try:\n",
    "        # Streaming pull future will block indefinitely\n",
    "        streaming_pull_future.result()\n",
    "    except KeyboardInterrupt:\n",
    "        streaming_pull_future.cancel()"
   ]
  },
  {
   "cell_type": "code",
   "execution_count": 16,
   "id": "38a84c15-ddb0-445e-be01-895b81512afc",
   "metadata": {
    "tags": []
   },
   "outputs": [
    {
     "ename": "NameError",
     "evalue": "name 'messages' is not defined",
     "output_type": "error",
     "traceback": [
      "\u001b[0;31m---------------------------------------------------------------------------\u001b[0m",
      "\u001b[0;31mNameError\u001b[0m                                 Traceback (most recent call last)",
      "Cell \u001b[0;32mIn[16], line 1\u001b[0m\n\u001b[0;32m----> 1\u001b[0m \u001b[38;5;28mprint\u001b[39m(\u001b[38;5;28mtype\u001b[39m(\u001b[43mmessages\u001b[49m))\n",
      "\u001b[0;31mNameError\u001b[0m: name 'messages' is not defined"
     ]
    }
   ],
   "source": [
    "print(type(messages))\n"
   ]
  },
  {
   "cell_type": "code",
   "execution_count": null,
   "id": "9d9d553a-68e6-4ac4-a807-cc78139031ee",
   "metadata": {},
   "outputs": [],
   "source": [
    "message_json = json.loads(message_data)\n",
    "\n",
    "\n",
    "        client = bigquery.Client(project=project_id)\n",
    "        table_ref = client.dataset(dataset_id).table(table_id)\n",
    "\n",
    "        # Prepare BigQuery row\n",
    "        rows_to_insert = [message_json]  # Message data is assumed to be a JSON object.\n"
   ]
  }
 ],
 "metadata": {
  "kernelspec": {
   "display_name": "Apache Beam 2.63.0 (Local)",
   "language": "python",
   "name": "apache-beam-2.63.0"
  },
  "language_info": {
   "codemirror_mode": {
    "name": "ipython",
    "version": 3
   },
   "file_extension": ".py",
   "mimetype": "text/x-python",
   "name": "python",
   "nbconvert_exporter": "python",
   "pygments_lexer": "ipython3",
   "version": "3.10.16"
  }
 },
 "nbformat": 4,
 "nbformat_minor": 5
}
