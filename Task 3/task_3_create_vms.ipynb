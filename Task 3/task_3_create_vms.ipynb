{
 "cells": [
  {
   "cell_type": "raw",
   "id": "b5153c92-bfeb-48b0-ba70-6dd87422c4f2",
   "metadata": {},
   "source": [
    "Task 3: Processing the data in real time\n",
    "\n",
    "Step 3:\n",
    "Deploy the program to a Compute Engine virtual machine. Use an instance group to set up autoscaling. Also, implement some kind of health check that you can use to ensure if the pull process is not running, the machine will be restarted.\n",
    "\n",
    "This notebook describes how to create a VM template, a MIG with the proper configurations, using terraform.\n",
    "\n",
    "The following code is not be executed using GCP Cloud Shell, where Terraform is preinstalled and configured. \n"
   ]
  },
  {
   "cell_type": "raw",
   "id": "d6480836-3c1d-4e2f-9769-04494b4f7797",
   "metadata": {},
   "source": [
    "1.\n",
    "Go to Cloud Shell home directory and create a new directory to run the code. You can call the directory: dsl-terraform\n",
    "\n",
    "mkdir dsl-terraform\n",
    "cd dsl-terraform\n"
   ]
  },
  {
   "cell_type": "raw",
   "id": "d531b753-449f-4e71-a315-a724bc187f20",
   "metadata": {},
   "source": [
    "2.\n",
    "download the terraform file dsl_mig_setup.tf from the folder \\terrafrom VMs in this workbench instance.\n",
    "make sure the downloaded file is stored within the new directory in your cloud shell terminal.\n"
   ]
  },
  {
   "cell_type": "markdown",
   "id": "cfb56195-cb02-471a-9c73-e42ad6ecab81",
   "metadata": {},
   "source": [
    "3.\n",
    "Now work on your Cloud Shell terminal, execute: \n",
    "\n",
    "terraform init \n",
    "wait for \"Terraform has been successfully initialized!\" \n",
    "\n",
    "terraform plan \n",
    "wait for something like this:\n",
    "\n",
    "Plan: 3 to add, 0 to change, 0 to destroy.\n",
    "\n",
    "Changes to Outputs:\n",
    "  + autoscaler_name        = \"app-autoscaler\"\n",
    "  + instance_group_name    = \"app-instance-group\"\n",
    "  + instance_template_name = (known after apply)\n",
    "\n",
    "\n",
    "terraform apply\n",
    "\n",
    "accept changes typing in \"yes\" and wait for: \n",
    "...Apply complete! Resources: 3 added, 0 changed, 0 destroyed.\n",
    "\n",
    "This TF scripts creates:\n",
    "a VM instance template (vm-dsl-template-xxxxx)\n",
    "a MIG (app-instance-group) check the autoscaling rules defined. \n"
   ]
  }
 ],
 "metadata": {
  "kernelspec": {
   "display_name": "Python 3 (Local)",
   "language": "python",
   "name": "micromamba-base-py"
  },
  "language_info": {
   "codemirror_mode": {
    "name": "ipython",
    "version": 3
   },
   "file_extension": ".py",
   "mimetype": "text/x-python",
   "name": "python",
   "nbconvert_exporter": "python",
   "pygments_lexer": "ipython3",
   "version": "3.10.17"
  }
 },
 "nbformat": 4,
 "nbformat_minor": 5
}
